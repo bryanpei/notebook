{
  "cells": [
    {
      "metadata": {
        "collapsed": true
      },
      "cell_type": "markdown",
      "source": "### Class template\n```java\n/**\n * NonProfit class.\n */\npublic class NonProfit {\n\n  private String organizationName;\n  private ArrayList<Donation> donations;\n\n  /**\n   * Create a NonProfit object.\n   *\n   * @param organizationName the organization name.\n   * @throws InvalidNameException if name is null.\n   * @return something\n   */\n  public NonProfit(String organizationName) throws InvalidNameException {\n    checkName(organizationName);\n    this.organizationName = organizationName;\n    this.donations = new ArrayList<>();\n  }\n}\n```"
    },
    {
      "metadata": {},
      "cell_type": "markdown",
      "source": "### Test file template\n```java\npublic class NonProfitTest {\n\n  @Before\n  public void setUp() throws Exception {\n  }\n\n  @Test\n  public void checkName() {\n  }\n\n  @Test(expected = Exception.class)\n  public void checkName2() throws Exception {\n  }\n}\n```\n\n### Often used assert function\n```java\nassertEquals();\nassertNotEquals();\nassertTrue();\nassertFalse();\nassertNull();\nassertNotNull();\n```"
    },
    {
      "metadata": {},
      "cell_type": "markdown",
      "source": "### Useful method\nString. toCharArray()  \nCharacter.isDigit()  \nCharacter.isLetter()  \nCharacter.isLetterOrDigit()  \nArrays.copyOf(old array, int newLen)"
    },
    {
      "metadata": {},
      "cell_type": "markdown",
      "source": "### UML\n\\+ public ---- Association: Solid Arrow  \n\\- private --- Inheritence: Empty Arrow  \n\\# protected"
    },
    {
      "metadata": {},
      "cell_type": "markdown",
      "source": "![uml](https://github.ccs.neu.edu/cs5004-spr20-sea/Student_repo_Xuefeng_Pei/blob/master/hw05/src/main/java/problem1/donation/donation-uml.png?raw=true)"
    }
  ],
  "metadata": {
    "kernelspec": {
      "name": "python36",
      "display_name": "Python 3.6",
      "language": "python"
    },
    "language_info": {
      "mimetype": "text/x-python",
      "nbconvert_exporter": "python",
      "name": "python",
      "pygments_lexer": "ipython3",
      "version": "3.6.6",
      "file_extension": ".py",
      "codemirror_mode": {
        "version": 3,
        "name": "ipython"
      }
    }
  },
  "nbformat": 4,
  "nbformat_minor": 2
}