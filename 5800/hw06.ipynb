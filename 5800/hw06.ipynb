{
 "cells": [
  {
   "cell_type": "markdown",
   "metadata": {},
   "source": [
    "# Problem 1"
   ]
  },
  {
   "cell_type": "markdown",
   "metadata": {},
   "source": [
    "**Xuefeng Pei**"
   ]
  },
  {
   "cell_type": "markdown",
   "metadata": {},
   "source": [
    "## (a)\n",
    "\n",
    "For a single column, we have four rows. Which means we have 2 or less pebbles on this coumn.  \n",
    "0 pebbels -> 1 pattern \\[0, 0, 0, 0\\]  \n",
    "1 pebbels -> 4 patterns \\[1, 0, 0, 0\\], \\[0, 1, 0, 0\\], \\[0, 0, 1, 0\\], \\[0, 0, 0, 1\\]   \n",
    "2 pebbels -> 3 patterns \\[1, 0, 1, 0\\],  \\[0, 1, 0, 1\\], \\[1, 0, 0, 1\\]  \n",
    "\n",
    "So the number of patterns should be 1 + 4 + 3 = **8**\n",
    "\n",
    "## (b)\n",
    "\n",
    "### Approach\n",
    "\n",
    "Clearly, there are at most **8** possible patterns for each column. Let F(i, c) be the maximum sum of the first **c** columns with pattern **i**. Then:   \n",
    "**F(i, c) = max{ Value(i) + F(j, c-1) }**, where i is from 0 to 7 and i, j are a pair of compatiable patterns.  \n",
    "\n",
    "And then we just need to keep a track of the optimal placement and return the result."
   ]
  },
  {
   "cell_type": "markdown",
   "metadata": {},
   "source": [
    "### Code\n",
    "\n",
    "For the following code, I'll use pattern number to match the patterns above and return a list of pattern numbers to represent the placement.  \n",
    "\n",
    "pattern 0:  \\[0, 0, 0, 0\\]  \n",
    "pattern 1: \\[1, 0, 0, 0\\]  \n",
    "pattern 2: \\[0, 1, 0, 0\\]  \n",
    "pattern 3: \\[0, 0, 1, 0\\]  \n",
    "pattern 4: \\[0, 0, 0, 1\\]  \n",
    "pattern 5: \\[1, 0, 1, 0\\]  \n",
    "pattern 6: \\[0, 1, 0, 1\\]  \n",
    "pattern 7: \\[1, 0, 0, 1\\] \n",
    "\n",
    "Apparently, the compatiability is as follows:  \n",
    "0 -> 1, 2, 3, 4, 5, 6, 7  \n",
    "1 -> 0, 2, 3, 4, 6  \n",
    "2 -> 0, 1, 3, 4, 5, 7  \n",
    "3 -> 0, 1, 2, 4, 6, 7  \n",
    "4 -> 0, 1, 2, 3, 5  \n",
    "5 -> 0, 2, 4, 6  \n",
    "6 -> 0, 1, 3, 5  \n",
    "7 -> 0, 2, 3  "
   ]
  },
  {
   "cell_type": "code",
   "execution_count": 1,
   "metadata": {},
   "outputs": [],
   "source": [
    "from typing import List"
   ]
  },
  {
   "cell_type": "code",
   "execution_count": 4,
   "metadata": {},
   "outputs": [],
   "source": [
    "def optimal_placement(board: List[List[int]], n: int) -> List[int]:\n",
    "    def value(c, i):\n",
    "        if i == 0:\n",
    "            return 0\n",
    "        elif i == 1:\n",
    "            return board[0][c]\n",
    "        elif i == 2:\n",
    "            return board[1][c]\n",
    "        elif i == 3:\n",
    "            return board[2][c]\n",
    "        elif i == 4:\n",
    "            return board[3][c]\n",
    "        elif i == 5:\n",
    "            return board[0][c] + board[2][c]\n",
    "        elif i == 6:\n",
    "            return board[1][c] + board[3][c]\n",
    "        elif i == 7:\n",
    "            return board[0][c] + board[3][c]\n",
    "        \n",
    "    compatiability = [(1, 2, 3, 4, 5, 6, 7), \n",
    "                      (0, 2, 3, 4, 6), \n",
    "                      (0, 1, 3, 4, 5, 7), \n",
    "                      (0, 1, 2, 4, 6, 7), \n",
    "                      (0, 1, 2, 3, 5), \n",
    "                      (0, 2, 4, 6), \n",
    "                      (0, 1, 3, 5), \n",
    "                      (0, 2, 3)]\n",
    "    res = [[[] for _ in range(8)] for _ in range(n)]\n",
    "    dp = [[0] * 8 for _ in range(n)]\n",
    "    for i in range(8):\n",
    "        dp[0][i] = value(c, i)\n",
    "        res[0][i].append(i)\n",
    "    \n",
    "    for c in range(1, n):\n",
    "        dp[c], res[c] = dp[c-1], res[c-1]\n",
    "        for i in range(8):\n",
    "            candidate = 0\n",
    "            for j in range(8):\n",
    "                if j in compatiability[i] and dp[c-1][j] + value(c, i) > dp[c][i]:\n",
    "                    dp[c][i] = dp[c-1][j] + value(c, i)\n",
    "                    candidate = j\n",
    "            res[c][i].append(candidate)\n",
    "    \n",
    "    max_p = dp[n-1].index(max(dp[n-1]))\n",
    "    return res[n-1][max_p]"
   ]
  },
  {
   "cell_type": "markdown",
   "metadata": {},
   "source": [
    "### Analysis:\n",
    "\n",
    "Time complexity: **O(n)** as the inner two for loops are constant time.  \n",
    "Space complexity: **O(n^2)** as we use a **res** array to store all the pattern combinations."
   ]
  },
  {
   "cell_type": "markdown",
   "metadata": {},
   "source": [
    "<br/><br/>"
   ]
  },
  {
   "cell_type": "markdown",
   "metadata": {},
   "source": [
    "# Problem 2"
   ]
  },
  {
   "cell_type": "markdown",
   "metadata": {},
   "source": [
    "### Approach\n",
    "\n",
    "Let F(i, j) be the set of results of String **s** from index i to j.  \n",
    "F(i, j) = UNION {  \n",
    "  product(p, q), for p in F(i, k), for q in F(k, j), k from i to j  \n",
    "}\n",
    "\n",
    "Base case: F(i, i) = s\\[i\\]   \n",
    "For this problem, I'll use top down with memoization to solve it."
   ]
  },
  {
   "cell_type": "markdown",
   "metadata": {},
   "source": [
    "### Code"
   ]
  },
  {
   "cell_type": "code",
   "execution_count": 17,
   "metadata": {},
   "outputs": [],
   "source": [
    "def can_form_a(s: str) -> bool:\n",
    "    products = {\n",
    "        ('a', 'a'): 'b',\n",
    "        ('a', 'b'): 'b',\n",
    "        ('a', 'c'): 'a',\n",
    "        ('b', 'a'): 'c',\n",
    "        ('b', 'b'): 'b',\n",
    "        ('b', 'c'): 'a',\n",
    "        ('c', 'a'): 'a',\n",
    "        ('c', 'b'): 'c',        \n",
    "        ('c', 'c'): 'c',        \n",
    "    }\n",
    "    dp = [[None] * len(s) for _ in range(len(s))]\n",
    "    \n",
    "    def helper(i: int, j: int) -> set:\n",
    "        if i == j:\n",
    "            return set(s[i])\n",
    "        if dp[i][j] is not None:\n",
    "            return dp[i][j]\n",
    "        res = set()\n",
    "        for k in range(i, j):\n",
    "            for p in helper(i, k):\n",
    "                for q in helper(k+1, j):\n",
    "                    res.add(products[p, q])\n",
    "        dp[i][j] = res\n",
    "        return res\n",
    "    \n",
    "    return 'a' in helper(0, len(s)-1)"
   ]
  },
  {
   "cell_type": "markdown",
   "metadata": {},
   "source": [
    "### Analysis\n",
    "\n",
    "Time complexity: O(n^3) as we are actually filling a table of n^2 size, for each result, we need O(n) time to calculate.  \n",
    "Space complexity: O(n^2) for the dp table."
   ]
  },
  {
   "cell_type": "markdown",
   "metadata": {},
   "source": [
    "<br/><br/>"
   ]
  },
  {
   "cell_type": "markdown",
   "metadata": {},
   "source": [
    "# Problem 3"
   ]
  },
  {
   "cell_type": "markdown",
   "metadata": {},
   "source": [
    "### Approach\n",
    "\n",
    "Let **F(n, k)** be the probability of **k** heads with the first **n** coins. Now, let's throw the **nth** coin, it's either head or tail, so there are two cases where we can get **k** heads:\n",
    "- nth coin is head: p\\[n-1\\] * F(n-1, k-1)\n",
    "- nth coin is tail: (1 - p\\[n-1\\]) * F(n-1, k)\n",
    "- F(n, 0) = (1 - p\\[n-1\\]) * F(n-1, 0)\n",
    "- F(0, 0) = 1\n",
    "- F(0, k) = 0 if k > 0\n",
    "\n",
    "So, F(n, k) = p\\[n-1\\] * F(n-1, k-1) + (1 - p\\[n-1\\]) * F(n-1, k)  "
   ]
  },
  {
   "cell_type": "markdown",
   "metadata": {},
   "source": [
    "### Code"
   ]
  },
  {
   "cell_type": "code",
   "execution_count": 317,
   "metadata": {},
   "outputs": [],
   "source": [
    "def count_head(n, k, p: List[int]) -> int:\n",
    "    if k > n:\n",
    "        return 0\n",
    "    dp = [[0] * (k+1) for _ in range(2)]\n",
    "    dp[0][0] = 1\n",
    "    \n",
    "    for i in range(1, n+1):\n",
    "        curr, prev = i % 2, (i + 1) % 2\n",
    "        dp[curr][0] = (1 - p[i-1]) * dp[prev][0]\n",
    "        for j in range(1, min(n, k)+1):\n",
    "            dp[curr][j] = p[i-1] * dp[prev][j-1] + (1 - p[i-1]) * dp[prev][j]\n",
    "    print(dp)\n",
    "    return dp[n%2][k]"
   ]
  },
  {
   "cell_type": "markdown",
   "metadata": {},
   "source": [
    "### Analysis\n",
    "\n",
    "Time complexity: O(n^2) as we used two for loops and k is at most n.  \n",
    "Space complexity: O(n) as we optimized the dp array to 2 * n."
   ]
  },
  {
   "cell_type": "markdown",
   "metadata": {},
   "source": [
    "<br/><br/>"
   ]
  },
  {
   "cell_type": "markdown",
   "metadata": {},
   "source": [
    "# Problem 4"
   ]
  },
  {
   "cell_type": "markdown",
   "metadata": {},
   "source": [
    "## (a)"
   ]
  },
  {
   "cell_type": "markdown",
   "metadata": {},
   "source": [
    "Counter example: \\[3, 100, 2, 1\\]  \n",
    "Player 1 choose 3  \n",
    "Player 2 choose 100  \n",
    "Player 1 choose 2  \n",
    "Player 2 choose 1  \n",
    "\n",
    "Player 1 total sum is 5, and Player 2 total sum is 101. So it's not a optimal choice."
   ]
  },
  {
   "cell_type": "markdown",
   "metadata": {},
   "source": [
    "## (b)"
   ]
  },
  {
   "cell_type": "markdown",
   "metadata": {},
   "source": [
    "### Approach\n",
    "\n",
    "Let f(i, j) be the maximum number we can get between i-th to j-th numbers.  \n",
    "There are two cases, we either take **i** or **j**, then in each case, the opponent also have two choices, but since he'll also try to maximize his score, we are left of the minimum possible score. Therefore:\n",
    "- f(i, j) = max(cards\\[i\\] + min(f(i+2, j), f(i+1, j-1)), cards\\[j\\] + min(f(i, j-2), f(i+1, j-1)))\n",
    "- f(i, j) = 0, if i > j\n",
    "- f(i, j) = cards[i] if i == j\n",
    "- f(i, j) = max(cards[i], cards[j]), if i + 1 == j\n",
    "\n",
    "Now as we can calculate our maximum score at each \\[i, j\\], we can know which one to pick given a certain **i, j**.  \n",
    "So I'll try to precompute a table to store which one **index** to take given a **i, j**."
   ]
  },
  {
   "cell_type": "code",
   "execution_count": 288,
   "metadata": {},
   "outputs": [],
   "source": [
    "def optimal_move(cards: List[int]) -> List[List[int]]:\n",
    "    res = [[0] * len(cards) for _ in range(len(cards))]\n",
    "    dp = [[None] * len(cards) for _ in range(len(cards))]\n",
    "    def helper(i: int, j: int):\n",
    "        if i > j:\n",
    "            return 0\n",
    "        if i == j:\n",
    "            res[i][j] = i\n",
    "            return cards[i]\n",
    "        if i + 1 == j:\n",
    "            res[i][j] = i if cards[i] > cards[j] else j\n",
    "            return max(cards[i], cards[j])\n",
    "        if dp[i][j] is not None:\n",
    "            return dp[i][j]\n",
    "        a = cards[i] + min(helper(i+2, j), helper(i+1, j-1))\n",
    "        b = cards[j] + min(helper(i, j-2), helper(i+1, j-1))\n",
    "        dp[i][j] = max(a, b)\n",
    "        res[i][j] = i if a > b else j\n",
    "        return dp[i][j]\n",
    "    helper(0, len(cards)-1)\n",
    "    return res"
   ]
  },
  {
   "cell_type": "markdown",
   "metadata": {},
   "source": [
    "### Analysis\n",
    "\n",
    "Time complexity: O(n^2) as we are trying to fill a dp table of size n^2.  \n",
    "Space complexity: O(n^2) for the dp and result table and recursive call stack."
   ]
  },
  {
   "cell_type": "markdown",
   "metadata": {},
   "source": [
    "<br/><br/>"
   ]
  },
  {
   "cell_type": "markdown",
   "metadata": {},
   "source": [
    "# Problem 5"
   ]
  },
  {
   "cell_type": "markdown",
   "metadata": {},
   "source": [
    "### Approach\n",
    "\n",
    "Let's use **P(i, j)** to indicate the probability of A win the game when A has **i** games left to win and B has **j** games left to win. Each time, either A wins or B wins, so we can easily get the following formular:\n",
    "- Base case: P(0, j) = 1  P(i, 0) = 0  \n",
    "- Normal case P(i, j) = 1/2(P(i-1, j) + P(i, j-1))  \n",
    "\n",
    "Example:  \n",
    "P(1, 3) = 1/2(P(0, 3) + P(1, 2))  \n",
    "        = 1/2(1 + 1/2(P(0, 2) + P(1, 1)))  \n",
    "        = 1/2(1 + 1/2(1 + 1/2(P(0, 1) + P(1, 0)))  \n",
    "        = 1/2(1 + 1/2(1 + 1/2(1 + 0)))  \n",
    "        = 1/2(1 + 1/2 * 3/2)  \n",
    "        = 1/2 * (1 + 3/4)  \n",
    "        = 1/2 * 7/4 = 7/8  "
   ]
  },
  {
   "cell_type": "markdown",
   "metadata": {},
   "source": [
    "### Code"
   ]
  },
  {
   "cell_type": "code",
   "execution_count": 301,
   "metadata": {},
   "outputs": [],
   "source": [
    "def cal_a_win(i: int, j: int, n: int) -> float:\n",
    "    i, j = n - i, n - j\n",
    "    dp = [[0] * (j + 1) for _ in range(2)]\n",
    "    for c in range(j+1):\n",
    "        dp[0][c] = 1\n",
    "        \n",
    "    for r in range(1, i+1):\n",
    "        curr, prev = r % 2, (r + 1) % 2\n",
    "        for c in range(1, j+1):\n",
    "            dp[curr][c] = 1/2 * (dp[prev][c] + dp[curr][c-1])\n",
    "            \n",
    "    return dp[i%2][j]"
   ]
  },
  {
   "cell_type": "markdown",
   "metadata": {},
   "source": [
    "### Analysis\n",
    "\n",
    "Time complexity: O(n^2) as we initial i, j value could be 0.  \n",
    "Space complexity: O(n) as we optimized our dp array to 2 * n at most.  "
   ]
  },
  {
   "cell_type": "markdown",
   "metadata": {},
   "source": [
    "<br/><br/>"
   ]
  },
  {
   "cell_type": "markdown",
   "metadata": {},
   "source": [
    "# Problem 6"
   ]
  },
  {
   "cell_type": "markdown",
   "metadata": {},
   "source": [
    "### Approach\n",
    "\n",
    "Let F(i) indicates whether we can make change of value i.  \n",
    "- F(i) = F(i) or F(i-coin), for coin in all coins  \n",
    "- F(0) = True  \n",
    "- F(i) = False if i < 0\n",
    "\n",
    "However, instead of top-down approach, I think bottom-up is simpler for this problem."
   ]
  },
  {
   "cell_type": "markdown",
   "metadata": {},
   "source": [
    "### Code"
   ]
  },
  {
   "cell_type": "code",
   "execution_count": 163,
   "metadata": {},
   "outputs": [],
   "source": [
    "def make_change1(value: int, coins: List[int]) -> bool:\n",
    "    dp = [False] * (value + 1)\n",
    "    dp[0] = True\n",
    "    for coin in coins:\n",
    "        for x in range(coin, value+1):\n",
    "            dp[x] = dp[x] or dp[x-coin]\n",
    "    \n",
    "    return dp[value]"
   ]
  },
  {
   "cell_type": "markdown",
   "metadata": {},
   "source": [
    "### Analysis\n",
    "\n",
    "Time complexity: O(nv) for the two for loops.  \n",
    "Space complexity: O(v) for the dp array."
   ]
  },
  {
   "cell_type": "markdown",
   "metadata": {},
   "source": [
    "<br/><br/>"
   ]
  },
  {
   "cell_type": "markdown",
   "metadata": {},
   "source": [
    "# Problem 7"
   ]
  },
  {
   "cell_type": "markdown",
   "metadata": {},
   "source": [
    "### Appraoch\n",
    "\n",
    "This problem is similar to the 0-1 knapsack problem. For each coin, we either take it or not.  \n",
    "Let F(i, j) be the boolean value whether we can form value **j** with the first **i** coins:\n",
    "- F(i, j) = F(i-1, j) or F(i-1, j-coins\\[i\\]) if j >= coins\\[i\\]\n",
    "- F(i, 0) = True  \n",
    "\n",
    "So we build up the table with bottom-up approach and also we can optimize the space complexity."
   ]
  },
  {
   "cell_type": "markdown",
   "metadata": {},
   "source": [
    "### Code"
   ]
  },
  {
   "cell_type": "code",
   "execution_count": 162,
   "metadata": {},
   "outputs": [],
   "source": [
    "def make_change2(value: int, coins: List[int]) -> bool:\n",
    "    dp = [[False] * (value+1) for _ in range(2)]\n",
    "    for i in range(len(dp)):\n",
    "        dp[i][0] = True\n",
    "    \n",
    "    for i in range(1, len(coins) + 1):\n",
    "        curr, prev = i % 2, (i + 1) % 2\n",
    "        for j in range(1, value+1):\n",
    "            dp[curr][j] = dp[prev][j]\n",
    "            if j - coins[i-1] >= 0:\n",
    "                dp[curr][j] = dp[curr][j] or dp[prev][j-coins[i-1]]\n",
    "                \n",
    "    return dp[len(coins)%2][value]"
   ]
  },
  {
   "cell_type": "markdown",
   "metadata": {},
   "source": [
    "### Analysis:\n",
    "\n",
    "Time complexity: O(nv) for the two for loops.  \n",
    "Space complexity: O(v) for the 2 * v dp array."
   ]
  },
  {
   "cell_type": "markdown",
   "metadata": {},
   "source": [
    "<br/><br/>"
   ]
  },
  {
   "cell_type": "markdown",
   "metadata": {},
   "source": [
    "# Problem 8"
   ]
  },
  {
   "cell_type": "markdown",
   "metadata": {},
   "source": [
    "### Approach\n",
    "\n",
    "This is similar to the previous question. We just need to add an additional parameter **k**.  \n",
    "Let F(i, k, j) be the boolean value whether we can form value **j** with the first **i** coins and **k** coins at most:\n",
    "- F(i, k, j) = F(i-1, k, j) or F(i-1, k-1, j-coins\\[i\\]) or F(i, k-1, j-coins\\[i\\]) if j >= coins\\[i\\]  \n",
    "- F(i, k, 0) = True  \n",
    "\n",
    "So we build up the table with bottom-up approach and also we can optimize the space complexity."
   ]
  },
  {
   "cell_type": "markdown",
   "metadata": {},
   "source": [
    "### Code"
   ]
  },
  {
   "cell_type": "code",
   "execution_count": 190,
   "metadata": {},
   "outputs": [],
   "source": [
    "def make_change3(value: int, k: int, coins: List[int]) -> bool:\n",
    "    dp = [[[False] * (value+1) for _ in range(k+1)] for _ in range(2)]\n",
    "    for i in range(len(dp)):\n",
    "        for k in range(len(dp[0])):\n",
    "            dp[i][k][0] = True\n",
    "    \n",
    "    for i in range(1, len(coins)+1):\n",
    "        curr, prev = i % 2, (i + 1) % 2        \n",
    "        for k in range(1, len(dp[0])):\n",
    "            for j in range(1, value+1):\n",
    "                dp[curr][k][j] = dp[prev][k][j]\n",
    "                if j - coins[i-1] >= 0:\n",
    "                    dp[curr][k][j] = dp[curr][k][j] or dp[curr][k-1][j-coins[i-1]] or dp[prev][k-1][j-coins[i-1]]\n",
    "    \n",
    "    return dp[len(coins)%2][k][value]    "
   ]
  },
  {
   "cell_type": "markdown",
   "metadata": {},
   "source": [
    "### Analysis\n",
    "\n",
    "Time complexity: O(nvk) for the three for loops.  \n",
    "Space complexity: O(vk) for the 2 * v * k dp array."
   ]
  },
  {
   "cell_type": "markdown",
   "metadata": {},
   "source": [
    "<br/><br/>"
   ]
  },
  {
   "cell_type": "markdown",
   "metadata": {},
   "source": [
    "# Problem 9"
   ]
  },
  {
   "cell_type": "markdown",
   "metadata": {},
   "source": [
    "### Approach\n",
    "\n",
    "This is the just like Problem 7, a 0-1 knapsack problem.  \n",
    "Let F(i, j) be the boolean value whether we can form value **j** with the first **i** numbers:\n",
    "- F(i, j) = F(i-1, j) or F(i-1, j-nums\\[i\\]) if j >= nums\\[i\\]\n",
    "- F(i, 0) = True  \n",
    "\n",
    "So we build up the table with bottom-up approach and also we can optimize the space complexity."
   ]
  },
  {
   "cell_type": "markdown",
   "metadata": {},
   "source": [
    "### Code"
   ]
  },
  {
   "cell_type": "code",
   "execution_count": 202,
   "metadata": {},
   "outputs": [],
   "source": [
    "def add_to_t(t: int, nums: List[int]) -> bool:\n",
    "    dp = [[False] * (t+1) for _ in range(2)]\n",
    "    for i in range(len(dp)):\n",
    "        dp[i][0] = True\n",
    "    \n",
    "    for i in range(1, len(nums) + 1):\n",
    "        curr, prev = i % 2, (i + 1) % 2\n",
    "        for j in range(1, t+1):\n",
    "            dp[curr][j] = dp[prev][j]\n",
    "            if j - nums[i-1] >= 0:\n",
    "                dp[curr][j] = dp[curr][j] or dp[prev][j-nums[i-1]]\n",
    "                \n",
    "    return dp[len(nums)%2][t]"
   ]
  },
  {
   "cell_type": "markdown",
   "metadata": {},
   "source": [
    "### Analysis:\n",
    "\n",
    "Time complexity: O(nt) for the two for loops.  \n",
    "Space complexity: O(v) for the 2 * t dp array."
   ]
  }
 ],
 "metadata": {
  "kernelspec": {
   "display_name": "Python 3",
   "language": "python",
   "name": "python3"
  },
  "language_info": {
   "codemirror_mode": {
    "name": "ipython",
    "version": 3
   },
   "file_extension": ".py",
   "mimetype": "text/x-python",
   "name": "python",
   "nbconvert_exporter": "python",
   "pygments_lexer": "ipython3",
   "version": "3.6.9"
  }
 },
 "nbformat": 4,
 "nbformat_minor": 4
}
