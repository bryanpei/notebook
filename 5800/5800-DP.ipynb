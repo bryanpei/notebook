{
 "cells": [
  {
   "cell_type": "markdown",
   "metadata": {},
   "source": [
    "# DP\n",
    "\n",
    "1. find out if the problem is optimization/counting/feasibility?\n",
    "2. design recursion\n",
    "3. naive => really bad runing time\n",
    "4. cache/remember subproblems\n",
    "    - bottom up\n",
    "    - top down (memoization)"
   ]
  },
  {
   "cell_type": "markdown",
   "metadata": {},
   "source": [
    "### knapsack w/ repeatition (complete knapsack)\n",
    "\n",
    "- n type of items\n",
    "- each type, there is unlimited copies\n",
    "- type i, value[i], weight[i]\n",
    "- knapsack capcity is **C**\n",
    "\n",
    "*Q: max return?*"
   ]
  },
  {
   "cell_type": "raw",
   "metadata": {},
   "source": [
    "f(i) = max $ return w/ knapsack of capacity i  \n",
    "f(i) = max(value[1] + f(i-weight[1]), value[2] + f(i-weight[2]), value[3] + f(i-weight[3])..., value[n] + f(i-weight[n]))"
   ]
  },
  {
   "cell_type": "code",
   "execution_count": 12,
   "metadata": {},
   "outputs": [],
   "source": [
    "from typing import List"
   ]
  },
  {
   "cell_type": "code",
   "execution_count": 13,
   "metadata": {},
   "outputs": [],
   "source": [
    "def knapsack(values: List[int], weight: List[int], C: int) -> int:\n",
    "    dp = [0] * (C + 1)\n",
    "    for i in range(1, C+1):\n",
    "        for k in range(len(values)):\n",
    "            if weight[k] <= i:\n",
    "                dp[i] = max(dp[i], values[k] + dp[i-weight[k]])\n",
    "    return dp[C]"
   ]
  },
  {
   "cell_type": "markdown",
   "metadata": {},
   "source": [
    "**Time Complexity**: O(nc)  \n",
    "**Space Complexity**: O(n)"
   ]
  },
  {
   "cell_type": "markdown",
   "metadata": {},
   "source": [
    "### Coin Change\n",
    "\n",
    "1. You have unlimited coins of **1, 5, 10, 25**\n",
    "\n",
    "*Q: what's the minimum # of coins you need for a certain amount?*"
   ]
  },
  {
   "cell_type": "raw",
   "metadata": {},
   "source": [
    "f(i) = minimum # of coins\n",
    "f(i) = min(1 + f(i-1), 1 + f(i-5), 1 + f(i-10), 1 + f(i-25))"
   ]
  },
  {
   "cell_type": "code",
   "execution_count": 11,
   "metadata": {},
   "outputs": [],
   "source": [
    "def coin_change(d: List[int], n: int) -> int:\n",
    "    dp = [0] * (n + 1)\n",
    "    for i in range(n+1):\n",
    "        dp[i] = i\n",
    "        for j in range(2, len(d)):\n",
    "            if d[j] <= i:\n",
    "                dp[i] = min(dp[i], 1 + A[i - dp[j]])\n",
    "    return dp[n]"
   ]
  },
  {
   "cell_type": "markdown",
   "metadata": {},
   "source": [
    "**Time Complexity**: O(nk), **n** is the amount, **k** is the number of types of coins."
   ]
  },
  {
   "cell_type": "markdown",
   "metadata": {},
   "source": [
    "### Subset Sum\n",
    "\n",
    "1. You have a set of integers, **A[1...n]**.\n",
    "2. There is a target **T**.\n",
    "\n",
    "*Q: Whether exsit a subset of the integers that sums up to **T**. *"
   ]
  },
  {
   "cell_type": "raw",
   "metadata": {},
   "source": [
    "f(i, j) = T or F, given A[1...i], target j\n",
    "f(i, j) = f(i-1, j-A[i]) or f(i-1, j)"
   ]
  },
  {
   "cell_type": "markdown",
   "metadata": {},
   "source": [
    "### LCS (Longest Common Subsequence)\n",
    "\n",
    "1. You have two lists of integers, A[1...n], B[1...m].\n",
    "\n",
    "*Q: What's the length of **LCS**?*"
   ]
  },
  {
   "cell_type": "raw",
   "metadata": {},
   "source": [
    "f(i, j) = length of LCS given A[1...i], B[1...j]\n",
    "1. A[i] != B[j], f(i, j) = max(f(i-1, j), f(i, j-1))\n",
    "2. A[i] == B[j], f(i, j) = 1 + f(i-1, j-1)\n",
    "3. f(0, i) = f(i, 0) = 0"
   ]
  },
  {
   "cell_type": "markdown",
   "metadata": {},
   "source": [
    "  |0|1|2|...|m|\n",
    "  |-|-|-|-|-|\n",
    "  |0|0|0|...|0|\n",
    "  |0|.|.|...|.|\n",
    "  |0|.|.|...|.|\n",
    "  |.|.|.|...|.|\n",
    "  |.|.|.|...|.|\n",
    "  |.|.|.|...|.|\n",
    "  |0|.|.|...|.|"
   ]
  },
  {
   "cell_type": "markdown",
   "metadata": {},
   "source": [
    "### Matrix Multiplication\n",
    "\n",
    "1. You have **n** matrix, A1 \\* A2 \\* A2 \\* ... \\* An\n",
    "2. p0, p1, p2..., pn  \n",
    "   A1 = p0 \\* p1, A2 = p1 \\* p2 ... An = p(n-1) * pn\n",
    "\n",
    "*Q: What's the **minimum cost** for the multiplication?*"
   ]
  },
  {
   "cell_type": "code",
   "execution_count": null,
   "metadata": {},
   "outputs": [],
   "source": [
    "f(i) = min cost for A1 * A2 * A3 ... * Ai"
   ]
  },
  {
   "cell_type": "markdown",
   "metadata": {},
   "source": [
    "<br/><br/>"
   ]
  },
  {
   "cell_type": "markdown",
   "metadata": {},
   "source": []
  }
 ],
 "metadata": {
  "kernelspec": {
   "display_name": "Python 3",
   "language": "python",
   "name": "python3"
  },
  "language_info": {
   "codemirror_mode": {
    "name": "ipython",
    "version": 3
   },
   "file_extension": ".py",
   "mimetype": "text/x-python",
   "name": "python",
   "nbconvert_exporter": "python",
   "pygments_lexer": "ipython3",
   "version": "3.6.9"
  }
 },
 "nbformat": 4,
 "nbformat_minor": 1
}
