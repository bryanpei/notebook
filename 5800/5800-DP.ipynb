{
  "cells": [
    {
      "metadata": {},
      "cell_type": "markdown",
      "source": "# DP\n\n1. find out if the problem is optimization/counting/feasibility?\n2. design recursion\n3. naive => really bad runing time\n4. cache/remember subproblems\n    - bottom up\n    - top down"
    },
    {
      "metadata": {},
      "cell_type": "markdown",
      "source": "### knapsack w/ repeatition (complete knapsack)\n\n- n type of items\n- each type, there is unlimited copies\n- type i, value[i], weight[i]\n- knapsack capcity is **C**\n\n*Q: max return?*"
    },
    {
      "metadata": {},
      "cell_type": "raw",
      "source": "f(i) = max $ return w/ knapsack of capacity i  \nf(i) = max(value[1] + f(i-weight[1]), value[2] + f(i-weight[2]), value[3] + f(i-weight[3])..., value[n] + f(i-weight[n]))"
    },
    {
      "metadata": {
        "trusted": true
      },
      "cell_type": "code",
      "source": "from typing import List",
      "execution_count": 12,
      "outputs": []
    },
    {
      "metadata": {
        "trusted": true
      },
      "cell_type": "code",
      "source": "def knapsack(values: List[int], weight: List[int], C: int) -> int:\n    dp = [0] * (C + 1)\n    for i in range(1, C+1):\n        for k in range(len(values)):\n            if weight[k] <= i:\n                dp[i] = max(dp[i], values[k] + dp[i-weight[k]])\n    return dp[C]",
      "execution_count": 13,
      "outputs": []
    },
    {
      "metadata": {},
      "cell_type": "markdown",
      "source": "**Time Complexity**: O(nc)  \n**Space Complexity**: O(n)"
    },
    {
      "metadata": {},
      "cell_type": "markdown",
      "source": "### Coin Change\n\n1. You have unlimited coins of **1, 5, 10, 25**\n\n*Q: what's the minimum # of coins you need for a certain amount?*"
    },
    {
      "metadata": {},
      "cell_type": "raw",
      "source": "f(i) = minimum # of coins\nf(i) = min(1 + f(i-1), 1 + f(i-5), 1 + f(i-10), 1 + f(i-25))"
    },
    {
      "metadata": {
        "trusted": true
      },
      "cell_type": "code",
      "source": "def coin_change(d: List[int], n: int) -> int:\n    dp = [0] * (n + 1)\n    for i in range(n+1):\n        dp[i] = i\n        for j in range(2, len(d)):\n            if d[j] <= i:\n                dp[i] = min(dp[i], 1 + A[i - dp[j]])\n    return dp[n]",
      "execution_count": 11,
      "outputs": []
    },
    {
      "metadata": {},
      "cell_type": "markdown",
      "source": "**Time Complexity**: O(nk), **n** is the amount, **k** is the number of types of coins."
    },
    {
      "metadata": {},
      "cell_type": "markdown",
      "source": "### Subset Sum\n\n1. You have a set of integers, **A[1...n]**.\n2. There is a target **T**.\n\n*Q: Whether exsit a subset of the integers that sums up to **T**. *"
    },
    {
      "metadata": {},
      "cell_type": "raw",
      "source": "f(i, j) = T or F, given A[1...i], target j\nf(i, j) = f(i-1, j-A[i]) or f(i-1, j)"
    },
    {
      "metadata": {},
      "cell_type": "markdown",
      "source": "### LCS (Longest Common Subsequence)\n\n1. You have two lists of integers, A[1...n], B[1...m].\n\n*Q: What's the length of **LCS**?*"
    },
    {
      "metadata": {},
      "cell_type": "raw",
      "source": "f(i, j) = length of LCS given A[1...i], B[1...j]\n1. A[i] != B[j], f(i, j) = max(f(i-1, j), f(i, j-1))\n2. A[i] == B[j], f(i, j) = 1 + f(i-1, j-1)\n3. f(0, i) = f(i, 0) = 0"
    },
    {
      "metadata": {},
      "cell_type": "markdown",
      "source": "  |0|1|2|...|m|\n  |-|-|-|-|-|\n  |0|0|0|...|0|\n  |0|.|.|...|.|\n  |0|.|.|...|.|\n  |.|.|.|...|.|\n  |.|.|.|...|.|\n  |.|.|.|...|.|\n  |0|.|.|...|.|"
    },
    {
      "metadata": {},
      "cell_type": "markdown",
      "source": "### Matrix Multiplication\n\n1. You have **n** matrix, A1 \\* A2 \\* A2 \\* ... \\* An\n2. p0, p1, p2..., pn  \n   A1 = p0 \\* p1, A2 = p1 \\* p2 ... An = p(n-1) * pn\n\n*Q: What's the **minimum cost** for the multiplication?*"
    },
    {
      "metadata": {
        "trusted": true
      },
      "cell_type": "code",
      "source": "f(i) = min cost for A1 * A2 * A3 ... * Ai",
      "execution_count": null,
      "outputs": []
    }
  ],
  "metadata": {
    "kernelspec": {
      "name": "python36",
      "display_name": "Python 3.6",
      "language": "python"
    },
    "language_info": {
      "mimetype": "text/x-python",
      "nbconvert_exporter": "python",
      "name": "python",
      "pygments_lexer": "ipython3",
      "version": "3.6.6",
      "file_extension": ".py",
      "codemirror_mode": {
        "version": 3,
        "name": "ipython"
      }
    }
  },
  "nbformat": 4,
  "nbformat_minor": 1
}