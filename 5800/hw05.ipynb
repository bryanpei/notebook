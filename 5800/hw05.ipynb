{
 "cells": [
  {
   "cell_type": "markdown",
   "metadata": {},
   "source": [
    "## Problem 1"
   ]
  },
  {
   "cell_type": "markdown",
   "metadata": {},
   "source": [
    "- first sequence, **A:** [1, 0, 0, 1, 0, 1, 0, 1] \n",
    "- second sequence, **B:** [0, 1, 0, 1, 1, 0, 1, 1, 0] "
   ]
  },
  {
   "cell_type": "markdown",
   "metadata": {},
   "source": [
    "**n = 8, m = 9**. Originally, we fill the table with 0.\n",
    "\n",
    "|   -   |   0   |   1   |   2   |   3   |   4   |   5   |   6   |   7   |   8   |   9   |\n",
    "| :---: | :---: | :---: | :---: | :---: | :---: | :---: | :---: | :---: | :---: | :---: |\n",
    "| **0** |   0   |   0   |   0   |   0   |   0   |   0   |   0   |   0   |   0   |   0   |\n",
    "| **1** |   0   |   0   |   0   |   0   |   0   |   0   |   0   |   0   |   0   |   0   |\n",
    "| **2** |   0   |   0   |   0   |   0   |   0   |   0   |   0   |   0   |   0   |   0   |\n",
    "| **3** |   0   |   0   |   0   |   0   |   0   |   0   |   0   |   0   |   0   |   0   |\n",
    "| **4** |   0   |   0   |   0   |   0   |   0   |   0   |   0   |   0   |   0   |   0   |\n",
    "| **5** |   0   |   0   |   0   |   0   |   0   |   0   |   0   |   0   |   0   |   0   |\n",
    "| **6** |   0   |   0   |   0   |   0   |   0   |   0   |   0   |   0   |   0   |   0   |\n",
    "| **7** |   0   |   0   |   0   |   0   |   0   |   0   |   0   |   0   |   0   |   0   |\n",
    "| **8** |   0   |   0   |   0   |   0   |   0   |   0   |   0   |   0   |   0   |   0   |   "
   ]
  },
  {
   "cell_type": "markdown",
   "metadata": {},
   "source": [
    "**n = 1, m = 1**.  \n",
    "A\\[1\\] != B\\[1\\] -> dp\\[1\\]\\[1\\] = max(dp\\[0\\]\\[1\\], dp\\[1\\]\\[0\\]) = 0  \n",
    "\n",
    "|   -   |   0   |   1   |   2   |   3   |   4   |   5   |   6   |   7   |   8   |   9   |\n",
    "| :---: | :---: | :---: | :---: | :---: | :---: | :---: | :---: | :---: | :---: | :---: |\n",
    "| **0** |   0   |   0   |   0   |   0   |   0   |   0   |   0   |   0   |   0   |   0   |\n",
    "| **1** |   0   | **0** |   0   |   0   |   0   |   0   |   0   |   0   |   0   |   0   |\n",
    "| **2** |   0   |   0   |   0   |   0   |   0   |   0   |   0   |   0   |   0   |   0   |\n",
    "| **3** |   0   |   0   |   0   |   0   |   0   |   0   |   0   |   0   |   0   |   0   |\n",
    "| **4** |   0   |   0   |   0   |   0   |   0   |   0   |   0   |   0   |   0   |   0   |\n",
    "| **5** |   0   |   0   |   0   |   0   |   0   |   0   |   0   |   0   |   0   |   0   |\n",
    "| **6** |   0   |   0   |   0   |   0   |   0   |   0   |   0   |   0   |   0   |   0   |\n",
    "| **7** |   0   |   0   |   0   |   0   |   0   |   0   |   0   |   0   |   0   |   0   |\n",
    "| **8** |   0   |   0   |   0   |   0   |   0   |   0   |   0   |   0   |   0   |   0   |\n"
   ]
  },
  {
   "cell_type": "markdown",
   "metadata": {},
   "source": [
    "**n = 1, m = 2**.  \n",
    "A\\[1\\] == B\\[2\\] -> dp\\[1\\]\\[2\\] = dp\\[0\\]\\[1\\] + 1 = 1\n",
    "\n",
    "|   -   |   0   |   1   |   2   |   3   |   4   |   5   |   6   |   7   |   8   |   9   |\n",
    "| :---: | :---: | :---: | :---: | :---: | :---: | :---: | :---: | :---: | :---: | :---: |\n",
    "| **0** |   0   |   0   |   0   |   0   |   0   |   0   |   0   |   0   |   0   |   0   |\n",
    "| **1** |   0   | **0** | **1** |   0   |   0   |   0   |   0   |   0   |   0   |   0   |\n",
    "| **2** |   0   |   0   |   0   |   0   |   0   |   0   |   0   |   0   |   0   |   0   |\n",
    "| **3** |   0   |   0   |   0   |   0   |   0   |   0   |   0   |   0   |   0   |   0   |\n",
    "| **4** |   0   |   0   |   0   |   0   |   0   |   0   |   0   |   0   |   0   |   0   |\n",
    "| **5** |   0   |   0   |   0   |   0   |   0   |   0   |   0   |   0   |   0   |   0   |\n",
    "| **6** |   0   |   0   |   0   |   0   |   0   |   0   |   0   |   0   |   0   |   0   |\n",
    "| **7** |   0   |   0   |   0   |   0   |   0   |   0   |   0   |   0   |   0   |   0   |\n",
    "| **8** |   0   |   0   |   0   |   0   |   0   |   0   |   0   |   0   |   0   |   0   |"
   ]
  },
  {
   "cell_type": "markdown",
   "metadata": {},
   "source": [
    "**n = 1, m = 3**.  \n",
    "A\\[1\\] != B\\[3\\] -> dp\\[1\\]\\[3\\] = max(dp\\[0\\]\\[3\\], dp\\[1\\]\\[2\\]) = 1  \n",
    "\n",
    "|   -   |   0   |   1   |   2   |   3   |   4   |   5   |   6   |   7   |   8   |   9   |\n",
    "| :---: | :---: | :---: | :---: | :---: | :---: | :---: | :---: | :---: | :---: | :---: |\n",
    "| **0** |   0   |   0   |   0   |   0   |   0   |   0   |   0   |   0   |   0   |   0   |\n",
    "| **1** |   0   | **0** | **1** | **1** |   0   |   0   |   0   |   0   |   0   |   0   |\n",
    "| **2** |   0   |   0   |   0   |   0   |   0   |   0   |   0   |   0   |   0   |   0   |\n",
    "| **3** |   0   |   0   |   0   |   0   |   0   |   0   |   0   |   0   |   0   |   0   |\n",
    "| **4** |   0   |   0   |   0   |   0   |   0   |   0   |   0   |   0   |   0   |   0   |\n",
    "| **5** |   0   |   0   |   0   |   0   |   0   |   0   |   0   |   0   |   0   |   0   |\n",
    "| **6** |   0   |   0   |   0   |   0   |   0   |   0   |   0   |   0   |   0   |   0   |\n",
    "| **7** |   0   |   0   |   0   |   0   |   0   |   0   |   0   |   0   |   0   |   0   |\n",
    "| **8** |   0   |   0   |   0   |   0   |   0   |   0   |   0   |   0   |   0   |   0   |"
   ]
  },
  {
   "cell_type": "markdown",
   "metadata": {},
   "source": [
    "**n = 1, m = 4**.  \n",
    "A\\[1\\] == B\\[4\\] -> dp\\[1\\]\\[4\\] = dp\\[0\\]\\[3\\] + 1 = 1\n",
    "\n",
    "|   -   |   0   |   1   |   2   |   3   |   4   |   5   |   6   |   7   |   8   |   9   |\n",
    "| :---: | :---: | :---: | :---: | :---: | :---: | :---: | :---: | :---: | :---: | :---: |\n",
    "| **0** |   0   |   0   |   0   |   0   |   0   |   0   |   0   |   0   |   0   |   0   |\n",
    "| **1** |   0   | **0** | **1** | **1** | **1** |   0   |   0   |   0   |   0   |   0   |\n",
    "| **2** |   0   |   0   |   0   |   0   |   0   |   0   |   0   |   0   |   0   |   0   |\n",
    "| **3** |   0   |   0   |   0   |   0   |   0   |   0   |   0   |   0   |   0   |   0   |\n",
    "| **4** |   0   |   0   |   0   |   0   |   0   |   0   |   0   |   0   |   0   |   0   |\n",
    "| **5** |   0   |   0   |   0   |   0   |   0   |   0   |   0   |   0   |   0   |   0   |\n",
    "| **6** |   0   |   0   |   0   |   0   |   0   |   0   |   0   |   0   |   0   |   0   |\n",
    "| **7** |   0   |   0   |   0   |   0   |   0   |   0   |   0   |   0   |   0   |   0   |\n",
    "| **8** |   0   |   0   |   0   |   0   |   0   |   0   |   0   |   0   |   0   |   0   |"
   ]
  },
  {
   "cell_type": "markdown",
   "metadata": {},
   "source": [
    "**...**"
   ]
  },
  {
   "cell_type": "markdown",
   "metadata": {},
   "source": [
    "**n = 8, m = 9**.  \n",
    "A\\[8\\] != B\\[9\\] -> dp\\[8\\]\\[9\\] = max(dp\\[7\\]\\[9\\], dp\\[8\\]\\[8\\]) = 6  \n",
    "\n",
    "|   -   |   0   |   1   |   2   |   3   |   4   |   5   |   6   |   7   |   8   |   9   |\n",
    "| :---: | :---: | :---: | :---: | :---: | :---: | :---: | :---: | :---: | :---: | :---: |\n",
    "| **0** |   0   |   0   |   0   |   0   |   0   |   0   |   0   |   0   |   0   |   0   |\n",
    "| **1** |   0   | **0** | **1** | **1** | **1** | **1** | **1** | **1** | **1** | **1** |\n",
    "| **2** |   0   | **1** | **1** | **2** | **2** | **2** | **2** | **2** | **2** | **2** |\n",
    "| **3** |   0   | **1** | **1** | **2** | **2** | **2** | **3** | **3** | **3** | **3** |\n",
    "| **4** |   0   | **1** | **2** | **2** | **3** | **3** | **3** | **4** | **4** | **4** |\n",
    "| **5** |   0   | **1** | **2** | **3** | **3** | **3** | **4** | **4** | **4** | **5** |\n",
    "| **6** |   0   | **1** | **2** | **3** | **4** | **4** | **4** | **5** | **5** | **5** |\n",
    "| **7** |   0   | **1** | **2** | **3** | **4** | **4** | **5** | **5** | **5** | **6** |\n",
    "| **8** |   0   | **1** | **2** | **3** | **4** | **5** | **5** | **6** | **6** | **6** |"
   ]
  },
  {
   "cell_type": "markdown",
   "metadata": {},
   "source": [
    "<br/><br/>"
   ]
  },
  {
   "cell_type": "markdown",
   "metadata": {},
   "source": [
    "# Problem 2"
   ]
  },
  {
   "cell_type": "markdown",
   "metadata": {},
   "source": [
    "### Approach\n",
    "\n",
    "Let's look at the recurrsion relationship:  \n",
    "**f(i, j) = f(i-1, j-1) + 1**  or **f(i, j) = max(f(i-1, j), f(i, j-1))**  \n",
    "It seems all we need to determine the current **f(i, j)** is information from **last row** and **current row**, so we can reduce the space complexity to **O(m)** or **O(n)** by only using a dp matrix of two rows.\n",
    "\n",
    "### Code"
   ]
  },
  {
   "cell_type": "code",
   "execution_count": 9,
   "metadata": {},
   "outputs": [],
   "source": [
    "from typing import List"
   ]
  },
  {
   "cell_type": "code",
   "execution_count": 11,
   "metadata": {},
   "outputs": [],
   "source": [
    "def LCS(A: List[int], B: List[int]) -> int:\n",
    "    dp = [[0] * len(B) for _ in range(2)]  ## 2 * m matrix.\n",
    "    for i in range(1, len(A)+1):\n",
    "        curr_row = i % 2\n",
    "        prev_row = 1 - curr_row\n",
    "        for j in range(1, len(B)+1):\n",
    "            if A[i-1] == B[j-1]:\n",
    "                dp[curr_row][j] = dp[prev_row][j-1] + 1\n",
    "            else:\n",
    "                dp[curr_row][j] = max(dp[prev_row][j], dp[curr_row][j-1])\n",
    "    return dp[len(A)%2][-1]"
   ]
  },
  {
   "cell_type": "markdown",
   "metadata": {},
   "source": [
    "### Analysis\n",
    "\n",
    "**Time complexity:** O(mn) because of two for loops.  \n",
    "**Space complexity:** O(m) because we only used a matrix of **2 * m**;"
   ]
  },
  {
   "cell_type": "markdown",
   "metadata": {},
   "source": [
    "<br/><br/>"
   ]
  },
  {
   "cell_type": "markdown",
   "metadata": {},
   "source": [
    "# Problem 3"
   ]
  },
  {
   "cell_type": "markdown",
   "metadata": {},
   "source": [
    "### Code"
   ]
  },
  {
   "cell_type": "code",
   "execution_count": 13,
   "metadata": {},
   "outputs": [],
   "source": [
    "def LCS(A: List[int], B: List[int]) -> int:\n",
    "    dp = [[-1] * (len(A) + 1) for _ in range(len(B) + 1)]\n",
    "    def LCS_helper(n, m):\n",
    "        if n == 0 or m == 0:\n",
    "            return 0\n",
    "\n",
    "        if dp[n][m] != -1:\n",
    "            return dp[n][m]\n",
    "\n",
    "        if A[n-1] == B[m-1]:\n",
    "            dp[n][m] = LCS(n-1, m-1) + 1\n",
    "        else:\n",
    "            dp[n][m] = max(LCS(n-1, m), LCS(n, m-1))\n",
    "            \n",
    "        return dp[n][m]\n",
    "    \n",
    "    return LCS_helper(len(A), len(B))"
   ]
  },
  {
   "cell_type": "markdown",
   "metadata": {},
   "source": [
    "### Analysis\n",
    "\n",
    "**Time complexity:** O(nm) as we calculated **n * m** subproblems.  \n",
    "**Space complexty:** O(nm) for the dp matrix and recursion call stack."
   ]
  },
  {
   "cell_type": "markdown",
   "metadata": {},
   "source": [
    "<br/><br/>"
   ]
  },
  {
   "cell_type": "markdown",
   "metadata": {},
   "source": [
    "# Problem 4"
   ]
  },
  {
   "cell_type": "markdown",
   "metadata": {},
   "source": [
    "### Approach\n",
    "\n",
    "For this problem, we could use a dp array of length **n** to keep track of the max sum of a subsequence that ends at index **i**. Then we initialize some variables to help us calculate the result:\n",
    "- **max_sum:** current maxisum sum.\n",
    "- **start:** starting index of the subsequence we are looking for.\n",
    "- **end:** ending index of the subsequence we are looking for.\n",
    "- **last_start:** where is our last starting index. This value is updated when at certain position **i**, dp[i] <= 0. Because if the result is 0, it will not contribute anything to the elements after **i**, so we update **last_start** to **i**."
   ]
  },
  {
   "cell_type": "markdown",
   "metadata": {},
   "source": [
    "### Code"
   ]
  },
  {
   "cell_type": "code",
   "execution_count": 351,
   "metadata": {},
   "outputs": [],
   "source": [
    "def max_subsequence(A: List[int]) -> List[int]:\n",
    "    max_sum = start = last_start = 0\n",
    "    end = -1\n",
    "    dp = [x for x in A]\n",
    "    for i in range(len(A)):\n",
    "        prev = dp[i-1] if i > 0 else 0\n",
    "        if prev > 0:\n",
    "            dp[i] += prev\n",
    "        else:\n",
    "            last_start = i\n",
    "        if dp[i] > max_sum:\n",
    "            max_sum = dp[i]\n",
    "            start, end = last_start, i\n",
    "    \n",
    "    return A[start:end+1]"
   ]
  },
  {
   "cell_type": "markdown",
   "metadata": {},
   "source": [
    "### Analysis\n",
    "\n",
    "**Time complexity:** O(n) as we only loop through the array once.  \n",
    "**Space complexity:** O(n) because we used an auxiliary dp array to store max_sum ending at a certain position."
   ]
  },
  {
   "cell_type": "markdown",
   "metadata": {},
   "source": [
    "<br/><br/>"
   ]
  },
  {
   "cell_type": "markdown",
   "metadata": {},
   "source": [
    "# Problem 5"
   ]
  },
  {
   "cell_type": "markdown",
   "metadata": {},
   "source": [
    "### Approach\n",
    "\n",
    "For this problem, we first need to figure out what's the minimum penalty at each stop. Let **F(i)** be the minimum penalty at A\\[i\\], then we can get the following fomula:  \n",
    "**F(i) = min{F(0)+(200-A\\[i\\]-0)\\*\\*2, F(1)+(200-A\\[i\\]-A\\[1\\])\\*\\*2, F(2)+(200-A\\[i\\]-A\\[2\\])\\*\\*2...F(i-1)+(200-A\\[i\\]-A\\[i-1\\])\\*\\*2}**\n",
    "\n",
    "So **F(i)** depends on all the results before it. To solve this problem, I'll use two dp arrays:\n",
    "- **dp_penalty:** store minimum penalty at each stop.\n",
    "- **dp_path:** store the best path at each stop.\n",
    "\n",
    "Then we can update our dp arrays when iterating the input."
   ]
  },
  {
   "cell_type": "markdown",
   "metadata": {},
   "source": [
    "### Code"
   ]
  },
  {
   "cell_type": "code",
   "execution_count": 42,
   "metadata": {},
   "outputs": [],
   "source": [
    "def min_penalty(A: List[int]) -> List[int]:\n",
    "    dp_penalty = [float('inf') for _ in range(len(A) + 1)]\n",
    "    dp_path = [[] for _ in range(len(A) + 1)]\n",
    "    dp_penalty[0] = 0\n",
    "    \n",
    "    for i in range(1, len(A)+1):\n",
    "        candidate = (float('inf'), [])\n",
    "        for j in range(0, i):\n",
    "            curr = A[i-1]\n",
    "            prev = A[j-1] if j > 0 else 0\n",
    "            penalty = dp_penalty[j] + (200 - (curr - prev)) ** 2\n",
    "            if penalty < candidate[0]:\n",
    "                candidate = (penalty, dp_path[j] + [curr])\n",
    "        dp_penalty[i], dp_path[i] = candidate[0], candidate[1]\n",
    "    \n",
    "    return dp_path[len(A)]"
   ]
  },
  {
   "cell_type": "markdown",
   "metadata": {},
   "source": [
    "### Analysis:\n",
    "\n",
    "**Time complexity:** O(n^2), because we have two for loops, total iteration is ((1+n)n)/2.  \n",
    "**Space complexity:** O(n^2), because we used a **2d list(dp_path)** to store the optimal path at each point **i**."
   ]
  },
  {
   "cell_type": "markdown",
   "metadata": {},
   "source": [
    "<br/><br/>"
   ]
  },
  {
   "cell_type": "markdown",
   "metadata": {},
   "source": [
    "# Problem 6"
   ]
  },
  {
   "cell_type": "markdown",
   "metadata": {},
   "source": [
    "### Approach:\n",
    "\n",
    "This is a similar optimisation problem to the previous problem. Let **F(i)** be the maximum profit at location\\[i\\], then we have two choices, open restaurant at the current position or not, so:  \n",
    "**F(i) = max{F(i-1), F(j) + profit\\[i\\]}**, where j is the closest point to i where i - j >= k  \n",
    "\n",
    "To do this, we can keep a dp array where stores all the results and a index **j** to keep track of our last available position."
   ]
  },
  {
   "cell_type": "code",
   "execution_count": 417,
   "metadata": {},
   "outputs": [],
   "source": [
    "def max_profit(location: List[int], profit: List[int], k: int) -> int:\n",
    "    dp = [0] * (len(location) + 1)\n",
    "    j = 1\n",
    "    for i in range(1, len(location)+1):\n",
    "        while location[i-1] - location[j-1] >= k:\n",
    "            j += 1\n",
    "        dp[i] = max(dp[i-1], dp[j-1] + profit[i-1])\n",
    "    return dp[len(location)]"
   ]
  },
  {
   "cell_type": "markdown",
   "metadata": {},
   "source": [
    "### Analysis:\n",
    "\n",
    "**Time complexity:** O(n) because at most index **i** and **j** both walk from 0 to n which is 2n time.  \n",
    "**Space complexity:** O(n) for the auxiliary dp array."
   ]
  },
  {
   "cell_type": "markdown",
   "metadata": {},
   "source": [
    "<br/><br/>"
   ]
  },
  {
   "cell_type": "markdown",
   "metadata": {},
   "source": [
    "# Problem 7"
   ]
  },
  {
   "cell_type": "markdown",
   "metadata": {},
   "source": [
    "## (a)"
   ]
  },
  {
   "cell_type": "markdown",
   "metadata": {},
   "source": [
    "### Approach\n",
    "\n",
    "For this problem, let's define **F(i)** as if s\\[0:i+1\\] can be split into valid words.  \n",
    "We cam try to split at every possible point before **i** to see if we can form a valid sequence.  \n",
    "Then get the following:  \n",
    "**F(i) = F(i) or (F(j) and dict(s\\[j:i\\])), j from 0 to i - 1**  \n",
    "\n"
   ]
  },
  {
   "cell_type": "markdown",
   "metadata": {},
   "source": [
    "### Code"
   ]
  },
  {
   "cell_type": "code",
   "execution_count": 66,
   "metadata": {},
   "outputs": [],
   "source": [
    "def word_break(s: str) -> bool:\n",
    "    dp = [False] * (len(s) + 1)\n",
    "    dp[0] = True\n",
    "    for i in range(1, len(s) + 1):\n",
    "        for j in range(i):\n",
    "            dp[i] = dp[j] and dict(s[j:i])\n",
    "            if dp[i]:\n",
    "                break\n",
    "    return dp[len(s)]"
   ]
  },
  {
   "cell_type": "markdown",
   "metadata": {},
   "source": [
    "### Analysis:\n",
    "\n",
    "**Time complexity:** O(n^2) for the two for loops.  \n",
    "**Space complexity:** O(n) for the dp array."
   ]
  },
  {
   "cell_type": "markdown",
   "metadata": {},
   "source": [
    "## (b)"
   ]
  },
  {
   "cell_type": "markdown",
   "metadata": {},
   "source": [
    "### Approach\n",
    "\n",
    "To output all possible combination, instean of store **true** and **false** in dp. We can store all possible sequences at each break point. And update this array like problem (a)."
   ]
  },
  {
   "cell_type": "markdown",
   "metadata": {},
   "source": [
    "### Code"
   ]
  },
  {
   "cell_type": "code",
   "execution_count": 90,
   "metadata": {},
   "outputs": [],
   "source": [
    "def word_break_out(self, s: str, wordDict: List[str]) -> List[str]:\n",
    "    wordDict = set(wordDict)\n",
    "    dp = [[] for _ in range(len(s) + 1)]\n",
    "    dp[0] = ['']\n",
    "    for i in range(1, len(s)):\n",
    "        for j in range(i):\n",
    "            if dp[j] and s[j:i] in wordDict:\n",
    "                for item in dp[j]:\n",
    "                    new = item + ' ' + s[j:i] if item != '' else s[j:i]\n",
    "                    dp[i].append(new)\n",
    "    return dp[len(s)]"
   ]
  },
  {
   "cell_type": "markdown",
   "metadata": {},
   "source": [
    "### Analysis\n",
    "\n",
    "**Time complexity:** The outter two loops take O(n^2) time。 The key point is the inner for loop. And this depends on the possible valid combinations. In best case, each breaking point has **0** or **1** combinations; In worst case, each breaking point **i** could have **2^i** combinations. So the total time complexity should be between **O(n^2)** to **O(n^2*2^n)**.\n",
    "On average, I think the posible combinations should be in linear relation with n. So average might be O(n^3).  \n",
    "**Space complexity:** Same as the time complexity, it depends on the possible combinations. It should be between **O(n)** to **O(n*2^n)**. On average, it might be O(n^2)."
   ]
  },
  {
   "cell_type": "markdown",
   "metadata": {},
   "source": [
    "<br/><br/>"
   ]
  },
  {
   "cell_type": "markdown",
   "metadata": {},
   "source": [
    "# Problem 8"
   ]
  },
  {
   "cell_type": "markdown",
   "metadata": {},
   "source": [
    "### Approach\n",
    "\n",
    "Let **f(i, j)** be the length of longest palindromic sequence from i to j. Then we get two situations:\n",
    "- s\\[i\\] == s\\[j\\] -> f(i, j) = f(i+1, j-1) + 2\n",
    "- s\\[i\\] != s\\[j\\] -> f(i, j) = max(f(i+1, j), f(i, j-1))\n",
    "\n",
    "With the fomula above, we can easily come up with the following code."
   ]
  },
  {
   "cell_type": "markdown",
   "metadata": {},
   "source": [
    "### Code"
   ]
  },
  {
   "cell_type": "code",
   "execution_count": 68,
   "metadata": {},
   "outputs": [],
   "source": [
    "def longestPalindrome(x: List) -> int:\n",
    "    n = len(x)\n",
    "    dp = [[1] * n for _ in range(n)]\n",
    "    for j in range(n):\n",
    "        for i in range(j-1, -1, -1):\n",
    "            if x[i] == x[j]:\n",
    "                dp[i][j] = dp[i+1][j-1] + 2 if i + 1 <= j - 1 else 2\n",
    "            else:\n",
    "                dp[i][j] = max(dp[i+1][j], dp[i][j-1])\n",
    "    return dp[0][n-1]"
   ]
  },
  {
   "cell_type": "markdown",
   "metadata": {},
   "source": [
    "The code above uses O(n^2) space. However, we can see that only last colunm is needed. So let's optimize it further more:"
   ]
  },
  {
   "cell_type": "code",
   "execution_count": 69,
   "metadata": {},
   "outputs": [],
   "source": [
    "def longestPalindrome(x: List) -> int:\n",
    "    n = len(x)\n",
    "    dp = [[1] * 2 for _ in range(n)]\n",
    "    for j in range(n):\n",
    "        curr, prev = j % 2, (j - 1) % 2\n",
    "        for i in range(j-1, -1, -1):\n",
    "            if x[i] == x[j]:\n",
    "                dp[i][curr] = dp[i+1][prev] + 2 if i + 1 <= j - 1 else 2\n",
    "            else:\n",
    "                dp[i][curr] = max(dp[i+1][curr], dp[i][prev])\n",
    "    return dp[0][(n-1)%2]"
   ]
  },
  {
   "cell_type": "markdown",
   "metadata": {},
   "source": [
    "### Analysis\n",
    "\n",
    "**Time complexity:** O(n^2) as we used two for loops.  \n",
    "**Space complexity:** O(n) for the 2 * n dp matrix."
   ]
  },
  {
   "cell_type": "markdown",
   "metadata": {},
   "source": [
    "<br/><br/>"
   ]
  },
  {
   "cell_type": "markdown",
   "metadata": {},
   "source": [
    "# Problem 9"
   ]
  },
  {
   "cell_type": "markdown",
   "metadata": {},
   "source": [
    "### Approach\n",
    "\n",
    "Let ***f(i, j)** be the longest common suffix of x and y at length i, j. Then we can get following formula:\n",
    "- x\\[i\\] == y\\[j\\], f(i, j) = f(i-1, j-1) + 1\n",
    "- x\\[i\\] != y\\[j\\], f(i, j) = 0\n",
    "\n",
    "So now all we need to do is two for loops and update the dp array and select the max length of suffix each time. When we considered all the suffix, we looked through all the substrings.  \n",
    "And similarly, we only need information from last row of the dp array, so we can optimize the space complexity to O(m) or O(n)."
   ]
  },
  {
   "cell_type": "markdown",
   "metadata": {},
   "source": [
    "### Code"
   ]
  },
  {
   "cell_type": "code",
   "execution_count": 80,
   "metadata": {},
   "outputs": [],
   "source": [
    "def longestCommonSubstring(x: str, y: str) -> int:\n",
    "    dp = [[0] * (len(y) + 1) for _ in range(2)]\n",
    "    max_len = 0\n",
    "    for i in range(1, len(x) + 1):\n",
    "        curr, prev = i % 2, (i-1) % 2\n",
    "        for j in range(1, len(y) + 1):\n",
    "            if x[i-1] == y[j-1]:\n",
    "                dp[curr][j] = dp[prev][j-1] + 1\n",
    "            else:\n",
    "                dp[curr][j] = 0\n",
    "            max_len = max(max_len, dp[curr][j])\n",
    "            \n",
    "    return max_len"
   ]
  },
  {
   "cell_type": "markdown",
   "metadata": {},
   "source": [
    "### Analysis\n",
    "\n",
    "**Time complexity:** O(mn) for the two for loops.  \n",
    "**Space complexity:** O(n) for the 2 * n dp array."
   ]
  },
  {
   "cell_type": "markdown",
   "metadata": {},
   "source": [
    "<br/><br/>"
   ]
  },
  {
   "cell_type": "markdown",
   "metadata": {},
   "source": [
    "# Problem 10"
   ]
  },
  {
   "cell_type": "markdown",
   "metadata": {},
   "source": [
    "### Approach\n",
    "\n",
    "Instead of cutting, let's try to put all the segments together and figure out the minimum cost.  \n",
    "If **m = \\[3, 10\\], n = 20**, we could generate a **segment** array, **\\[3, 7, 10\\].**  \n",
    "Now let **f(i, j)** be the minimum cost of put together from seg\\[i\\] to seg\\[j\\]. We can get the following:\n",
    "- i == j -> f(i, j) = 0\n",
    "- i + 1 == j -> f(i, j) = total_len(i, j)\n",
    "- else: f(i, j) = min{ f(i, k) + f(k+1, j) + total_len(i, j), k from i to j-1 }\n",
    "\n",
    "And then **f(0, len(seg)-1)** will be our answer. To caculate the distance, all we need is add a **0** and **n** to the head and tail position of array m.  \n",
    "Then **d(i, j) = m\\[j+1\\] - m\\[i\\].**"
   ]
  },
  {
   "cell_type": "markdown",
   "metadata": {},
   "source": [
    "### Code"
   ]
  },
  {
   "cell_type": "code",
   "execution_count": 244,
   "metadata": {},
   "outputs": [],
   "source": [
    "def min_cost(m: List[int], n: int) -> int:\n",
    "    m = [0] + m + [n]\n",
    "    seg = [m[i] - m[i-1] for i in range(1, len(m))]\n",
    "    dp = [[float('inf')] * len(seg) for _ in range(len(seg))]\n",
    "    \n",
    "    for j in range(len(seg)):\n",
    "        for i in range(j, -1, -1):\n",
    "            if i == j:\n",
    "                dp[i][j] = 0\n",
    "            elif i + 1 == j:\n",
    "                dp[i][j] = m[j+1] - m[i]\n",
    "            else:\n",
    "                for k in range(i, j):\n",
    "                    dp[i][j] = min(dp[i][j], dp[i][k] + dp[k+1][j] + m[j+1] - m[i])\n",
    "    return dp[0][len(seg)-1]"
   ]
  },
  {
   "cell_type": "markdown",
   "metadata": {},
   "source": [
    "### Analysis:\n",
    "\n",
    "**Time complexity:** O(m^3) for the three for loops.  \n",
    "**Space complexity** O(m^2) for the 2d dp array that stores the cache result."
   ]
  }
 ],
 "metadata": {
  "kernelspec": {
   "display_name": "Python 3",
   "language": "python",
   "name": "python3"
  },
  "language_info": {
   "codemirror_mode": {
    "name": "ipython",
    "version": 3
   },
   "file_extension": ".py",
   "mimetype": "text/x-python",
   "name": "python",
   "nbconvert_exporter": "python",
   "pygments_lexer": "ipython3",
   "version": "3.6.9"
  }
 },
 "nbformat": 4,
 "nbformat_minor": 4
}
