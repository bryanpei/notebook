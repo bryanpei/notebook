{
 "cells": [
  {
   "cell_type": "code",
   "execution_count": 1,
   "metadata": {},
   "outputs": [],
   "source": [
    "from typing import List"
   ]
  },
  {
   "cell_type": "markdown",
   "metadata": {},
   "source": [
    "# Xuefeng(Bryan) Pei"
   ]
  },
  {
   "cell_type": "markdown",
   "metadata": {},
   "source": [
    "# Problem 1"
   ]
  },
  {
   "cell_type": "markdown",
   "metadata": {},
   "source": [
    "### Approach\n",
    "\n",
    "For this problem, let's use **dp\\[i\\]\\[j\\]** to represent the maximum probability when we are at **i**th stage with budge **j**.\n",
    "At each stage, we can buy at most budget/costs\\[stage-1\\] machine. So we can consider all the possible numbers and calculate the maximum probability:\n",
    "- dp\\[i\\]\\[j\\] = min{dp\\[i-1\\]\\[budget-n*costs\\[i-1\\]\\] * (1 - probabilities[i-1]^n) for n from 0 to budget/costs\\[i-1\\]}\n",
    "- if i == 0, dp\\[i\\]\\[j\\] = 1 // base case\n",
    "- if j < cost\\[i-1\\], dp\\[i\\]\\[j\\] = 1  // because we are not buying anything from here and stopped the recursion.\n",
    "\n",
    "I'll try to use a top-down approach for this problem because it seems easier to implement."
   ]
  },
  {
   "cell_type": "code",
   "execution_count": null,
   "metadata": {},
   "outputs": [],
   "source": [
    "def min_budget(probabilities: List[float], costs: List[int], budget: int) -> List[int]:\n",
    "    dp = [[None] * (budget+1) for _ in range(len(costs)+1)]\n",
    "    \n",
    "    def top_down(stage: int, budget: int, dp: List[List[float]]):\n",
    "        if stage == 0 or budget < costs[stage-1]:\n",
    "            return 1\n",
    "        \n",
    "        if dp[stage][budget] is not None:\n",
    "            return dp[stage][budget]\n",
    "        \n",
    "        # maximum number we can buy for the current machine.\n",
    "        max_num = budget // costs[stage-1]\n",
    "        ans = 0\n",
    "        for i in range(max_num+1):\n",
    "            ans = max(ans, top_down(stage-1, budget-i*costs[stage-1]) * (1 - probabilities[stage-1]^i))\n",
    "        dp[stage][budget] = ans\n",
    "        return ans\n",
    "    \n",
    "    return top_down(len(costs), budget, dp)\n",
    "        "
   ]
  },
  {
   "cell_type": "markdown",
   "metadata": {},
   "source": [
    "### Analysis\n",
    "\n",
    "Time complexity: The time complexity is not that obivious, but I think it's **O(stage*budget^2)** because we are basically filling the dp table and we have a for loop in each recursion.  \n",
    "Space complexity: **O(stage*budget)** for the dp array. The recursion call stack won't go that deep which costs more memory than the dp array."
   ]
  },
  {
   "cell_type": "markdown",
   "metadata": {},
   "source": [
    "<br/><br/>"
   ]
  },
  {
   "cell_type": "markdown",
   "metadata": {},
   "source": [
    "# Problem 2"
   ]
  },
  {
   "cell_type": "markdown",
   "metadata": {},
   "source": [
    "### Approach\n",
    "\n",
    "Let **dp\\[k\\]\\[i\\]\\[j\\]** represent whether the first set can achieve sum of **i** and second set can achieve sum of **j** with the first **k** numbers. Then the answer we are looking for would be dp\\[total/3\\]\\[total/3\\]. Now, for each number, we either put it in the first set or the second set or the third set(means we don't add it). So, we can get the following recursion relationship:\n",
    "- For each k, dp\\[k\\]\\[i\\]\\[j\\] = dp\\[i-nums\\[k-1\\]\\]\\[j\\] or dp\\[i\\]\\[j-nums\\[k-1\\]\\] if i > n or j > n or dp\\[k-1\\]\\[i\\]\\[j\\]\n",
    "- dp\\[k\\]\\[0\\]\\[0\\] = true\n",
    "\n",
    "With the above formula, we can build a bottom-up appraoch for this problem."
   ]
  },
  {
   "cell_type": "markdown",
   "metadata": {},
   "source": [
    "### Code"
   ]
  },
  {
   "cell_type": "code",
   "execution_count": 81,
   "metadata": {},
   "outputs": [],
   "source": [
    "def three_partition(nums: List[int]) -> bool:\n",
    "    s = sum(nums)\n",
    "    if s % 3 != 0:\n",
    "        return False\n",
    "    dp = [[[False] * (s//3+1) for _ in range(s//3+1)] for _ in range(2)]\n",
    "    \n",
    "    dp[0][0][0] = True\n",
    "    for k in range(1, len(nums)+1):\n",
    "        curr, prev = k % 2, (k + 1) % 2\n",
    "        dp[curr][0][0] = True\n",
    "        for i in range(s//3+1):\n",
    "            for j in range(s//3+1):\n",
    "                dp[curr][i][j] = dp[prev][i][j]\n",
    "                if i >= nums[k-1]:\n",
    "                    dp[curr][i][j] = dp[prev][i-nums[k-1]][j] or dp[curr][i][j]\n",
    "                if j >= nums[k-1]:\n",
    "                    dp[curr][i][j] = dp[prev][i][j-nums[k-1]] or dp[curr][i][j]\n",
    "                    \n",
    "    return dp[len(nums)%2][s//3][s//3]"
   ]
  },
  {
   "cell_type": "markdown",
   "metadata": {},
   "source": [
    "### Analysis\n",
    "\n",
    "Time complexity: O(total^2*n) for the three for loops.  \n",
    "Space complexity: O(total^2) for the dp array."
   ]
  },
  {
   "cell_type": "markdown",
   "metadata": {},
   "source": [
    "<br/><br/>"
   ]
  },
  {
   "cell_type": "markdown",
   "metadata": {},
   "source": [
    "# Problem 3"
   ]
  },
  {
   "cell_type": "markdown",
   "metadata": {},
   "source": [
    "### Approach\n",
    "\n",
    "Let's use dp\\[i\\]\\[j\\] to represent the maximum score of gene *x*, *y* with the first **ith** and **jth** character. At each alignment, we have three ways of taking them: x y, - y, x -. So our answer should depend on those three values. The recursion relationship should look something like this:\n",
    "- dp\\[i\\]\\[j\\] = max(scores\\[i\\]\\[j\\] + dp\\[i-1\\]\\[j-1\\], scores\\[-\\]\\[j\\] + dp\\[i\\]\\[j-1\\], scores\\[i\\]\\[-\\] + dp\\[i-1\\]\\[j\\])\n",
    "- d\\[0\\]\\[j\\] = scores\\[-\\]\\[j\\] + dp\\[0\\]\\[j-1\\]\n",
    "- d\\[i\\]\\[0\\] = scores\\[i\\]\\[-\\] + dp\\[i-1\\]\\[0\\]\n",
    "- dp\\[0\\]\\[0\\] = 0\n",
    "\n",
    "With the recursion relation above, we can easily build a bottom approach for this problem."
   ]
  },
  {
   "cell_type": "markdown",
   "metadata": {},
   "source": [
    "### Code"
   ]
  },
  {
   "cell_type": "code",
   "execution_count": null,
   "metadata": {},
   "outputs": [],
   "source": [
    "def maximum_score(str: x, str: y, scores: List[List[int]]) -> int:\n",
    "    m, n = len(x), len(y)\n",
    "    dp = [[0] * (n+1) for _ in range(2)]\n",
    "        \n",
    "    for j in range(1, n+1):\n",
    "        dp[0][j] = dp[0][j-1] + scores['-'][y[j-1]]\n",
    "    \n",
    "    for i in range(1, m+1):\n",
    "        curr, prev = i % 2, (i + 1) % 2\n",
    "        dp[curr][0] = dp[prev][0] + scores[x[i-1]]['-']\n",
    "        for j in range(1, n+1):\n",
    "            dp[curr][j] = max(scores[x[i-1]][y[j-1]] + dp[prev][j-1], scores['-'][y[j-1]] + dp[curr][j-1], \n",
    "                           scores[x[i-1]]['-'] + dp[prev][j])\n",
    "    \n",
    "    return dp[m%2][n]"
   ]
  },
  {
   "cell_type": "markdown",
   "metadata": {},
   "source": [
    "### Analysis\n",
    "\n",
    "Time complexity: O(mn) for the two loops.  \n",
    "Space complextiy: O(m) or O(n) as we can optimize the dp array."
   ]
  },
  {
   "cell_type": "markdown",
   "metadata": {},
   "source": [
    "<br/><br/>"
   ]
  },
  {
   "cell_type": "markdown",
   "metadata": {},
   "source": [
    "# Problem 4"
   ]
  },
  {
   "cell_type": "markdown",
   "metadata": {},
   "source": [
    "### Approach\n",
    "\n",
    "For this problem, let's use dp\\[i\\] to represent different ways to clime to i-th stair. Because we can either clime 1 or 2 steps, so apparently, the result depends on previous two results:\n",
    "- dp\\[i\\] = dp\\[i-1\\] + dp\\[i-2\\]\n",
    "- dp\\[0\\] = dp\\[1\\] = 1\n",
    "\n",
    "And because the currently result only depends on previous two results, we can also optimize the space."
   ]
  },
  {
   "cell_type": "markdown",
   "metadata": {},
   "source": [
    "### Code"
   ]
  },
  {
   "cell_type": "code",
   "execution_count": null,
   "metadata": {},
   "outputs": [],
   "source": [
    "def climb_stairs(n: int) -> int:\n",
    "    dp = [1] * 3\n",
    "    for i in range(2, n + 1):\n",
    "        dp[i%3] = dp[(i+1)%3] + dp[(i+2)%3]\n",
    "\n",
    "    return dp[n%3]"
   ]
  },
  {
   "cell_type": "markdown",
   "metadata": {},
   "source": [
    "### Analysis\n",
    "\n",
    "Time complexity: O(n) for the one for loop.  \n",
    "Space complexity: O(1) because we only used constant space."
   ]
  },
  {
   "cell_type": "markdown",
   "metadata": {},
   "source": [
    "<br/><br/>"
   ]
  },
  {
   "cell_type": "markdown",
   "metadata": {},
   "source": [
    "# Problem 5"
   ]
  },
  {
   "cell_type": "markdown",
   "metadata": {},
   "source": [
    "### Approach\n",
    "\n",
    "For this problem, let dp\\[i\\]\\[j\\] represents the number of answer for length **i** of **T** and length **j** of **S**.  \n",
    "If S\\[i-1\\] != T\\[i-1\\], then it should be **dp\\[i\\]\\[j-1\\]**, because it ended with same letter, it should has the same number as previous one. If  S\\[i-1\\] == T\\[i-1\\], we can add an additional **dp\\[i-1\\]\\[j-1\\]** because now we can form the answer by using previous length of S and T. Therefor:\n",
    "- if S\\[i-1\\] != T\\[i-1\\], dp\\[i\\]\\[j\\] = dp\\[i\\]\\[j-1\\].\n",
    "- if S\\[i-1\\] == T\\[i-1\\], dp\\[i\\]\\[j\\] = dp\\[i\\]\\[j-1\\] + dp\\[i-1\\]\\[j-1\\].\n",
    "- dp\\[0\\]\\[j\\] = 1\n",
    "- if i > j, dp\\[i\\]\\[j\\] = 0"
   ]
  },
  {
   "cell_type": "markdown",
   "metadata": {},
   "source": [
    "### Code"
   ]
  },
  {
   "cell_type": "code",
   "execution_count": null,
   "metadata": {},
   "outputs": [],
   "source": [
    "def distinct_subsequence(s: str, t: str) -> int:\n",
    "    if len(s) < len(t):\n",
    "        return 0\n",
    "\n",
    "    dp_prev = [1] * (len(s) + 1)\n",
    "\n",
    "    for i in range(1, len(t) + 1):\n",
    "        dp_curr = [0] * (len(s) + 1)\n",
    "        for j in range(i, len(s) + 1):\n",
    "            dp_curr[j] = dp_curr[j-1]\n",
    "            if(t[i-1] == s[j-1]):\n",
    "                dp_curr[j] += dp_prev[j-1]\n",
    "        dp_prev = dp_curr\n",
    "\n",
    "    return dp_curr[len(s)]"
   ]
  },
  {
   "cell_type": "markdown",
   "metadata": {},
   "source": [
    "### Analysis\n",
    "\n",
    "Time complexity: O(mn) for the two loops.  \n",
    "Space complexity: O(m) because we applied the space optimizition here."
   ]
  },
  {
   "cell_type": "markdown",
   "metadata": {},
   "source": [
    "<br/><br/>"
   ]
  },
  {
   "cell_type": "markdown",
   "metadata": {},
   "source": [
    "# Problem 6"
   ]
  },
  {
   "cell_type": "markdown",
   "metadata": {},
   "source": [
    "### Approach\n",
    "\n",
    "Let's use **dp\\[i\\]** represents the maximum money we can get from the first ith houses. We can either rob the current house or not. So the recursion will look like this:\n",
    "- dp\\[i\\] = max(dp\\[i-2\\] + nums\\[i\\], dp\\[i-1\\])\n",
    "\n",
    "So we can easily design a bottom up solution for this. Also we can optimize the space because we only need prevoid two states."
   ]
  },
  {
   "cell_type": "markdown",
   "metadata": {},
   "source": [
    "### Code"
   ]
  },
  {
   "cell_type": "code",
   "execution_count": null,
   "metadata": {},
   "outputs": [],
   "source": [
    "def rob_house(nums: List[int]) -> int:\n",
    "    dp = [0] * 3\n",
    "\n",
    "    for i in range(2, len(nums)+2):\n",
    "        dp[i%3] = max(dp[(i+1)%3] + nums[i-2], dp[(i+2)%3])\n",
    "\n",
    "    return dp[(len(nums)+1)%3]"
   ]
  },
  {
   "cell_type": "markdown",
   "metadata": {},
   "source": [
    "### Analysis\n",
    "\n",
    "Time complexity: O(n) for the one for loop.  \n",
    "Space cimplexity: O(1) for the constant dp array."
   ]
  },
  {
   "cell_type": "markdown",
   "metadata": {},
   "source": [
    "<br/><br/>"
   ]
  },
  {
   "cell_type": "markdown",
   "metadata": {},
   "source": [
    "# Problem 7"
   ]
  },
  {
   "cell_type": "markdown",
   "metadata": {},
   "source": [
    "### Analysis\n",
    "\n",
    "Let's use **dp\\[i\\]\\[j\\]** to represent the answer of **s1** of length **i** and **s2** of length **j**. Apparently, a smaller instance of the problem will generate a better answer. For example, **abc** and **cde**, the last characters are not same, so we only need to consider deleting one of them. If them are the same, then we keep then and the problem is smaller. The recursion relationship should look like this:\n",
    "- if s1\\[i-1\\] == s2\\[j-1\\], dp\\[i\\]\\[j\\] = dp\\[i-1\\]\\[j-1\\]\n",
    "- if s1\\[i-1\\] != s2\\[j-1\\], dp\\[i\\]\\[j\\] = min(dp\\[i\\]\\[j-1\\], dp\\[i-1\\]\\[j\\])\n",
    "- Base case, i == 0 or j == 0, the answer should the acsii value of all charaters in the other string.\n",
    "\n",
    "Also, from the recursion relationship we can see that we could apply space optimization here."
   ]
  },
  {
   "cell_type": "markdown",
   "metadata": {},
   "source": [
    "### Code"
   ]
  },
  {
   "cell_type": "code",
   "execution_count": null,
   "metadata": {},
   "outputs": [],
   "source": [
    "def minimum_delete(self, s1: str, s2: str) -> int:\n",
    "    dp = [[0] * (len(s2) + 1) for _ in range(2)]\n",
    "\n",
    "    for j in range(1, len(dp[0])):\n",
    "        dp[0][j] = dp[0][j-1] + ord(s2[j-1])\n",
    "\n",
    "    for i in range(1, len(s1) + 1):\n",
    "        curr, prev = i % 2, (i + 1) % 2\n",
    "        dp[curr][0] = dp[prev][0] + ord(s1[i-1])\n",
    "        for j in range(1, len(s2) + 1):\n",
    "            if s1[i-1] == s2[j-1]:\n",
    "                dp[curr][j] = dp[prev][j-1]\n",
    "            else:\n",
    "                dp[curr][j] = min(ord(s1[i-1]) + dp[prev][j], ord(s2[j-1]) + dp[curr][j-1])\n",
    "\n",
    "    return dp[len(s1)%2][-1]"
   ]
  },
  {
   "cell_type": "markdown",
   "metadata": {},
   "source": [
    "### Analysis\n",
    "\n",
    "Time complexity: O(mn) for the two for loops.  \n",
    "Space complexity: O(m) or O(n) because we applied space optimization."
   ]
  }
 ],
 "metadata": {
  "kernelspec": {
   "display_name": "Python 3",
   "language": "python",
   "name": "python3"
  },
  "language_info": {
   "codemirror_mode": {
    "name": "ipython",
    "version": 3
   },
   "file_extension": ".py",
   "mimetype": "text/x-python",
   "name": "python",
   "nbconvert_exporter": "python",
   "pygments_lexer": "ipython3",
   "version": "3.6.9"
  }
 },
 "nbformat": 4,
 "nbformat_minor": 4
}
